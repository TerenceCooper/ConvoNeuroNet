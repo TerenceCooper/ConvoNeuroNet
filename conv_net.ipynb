{
 "cells": [
  {
   "cell_type": "code",
   "execution_count": 1,
   "metadata": {
    "collapsed": true
   },
   "outputs": [],
   "source": [
    "from __future__ import print_function\n",
    "import numpy as np\n",
    "import tensorflow as tf\n",
    "from six.moves import cPickle as pickle\n",
    "from six.moves import range"
   ]
  },
  {
   "cell_type": "code",
   "execution_count": 2,
   "metadata": {
    "collapsed": false
   },
   "outputs": [
    {
     "name": "stdout",
     "output_type": "stream",
     "text": [
      "Training set (10000, 32, 32, 1) (10000, 6)\n",
      "Validation set (800, 32, 32, 1) (800, 6)\n",
      "Test set (1000, 32, 32, 1) (1000, 6)\n"
     ]
    }
   ],
   "source": [
    "# pickle_file = 'SVHN.pickle'\n",
    "pickle_file = 'toy_data.pickle'\n",
    "with open(pickle_file, 'rb') as inFile:\n",
    "    content = pickle.load(inFile)\n",
    "    X_train = content['toy_X_train'] # content['X_train']\n",
    "    y_train = content['toy_y_train'] # content['y_train']\n",
    "    X_valid = content['toy_X_valid'] # content['X_valid']\n",
    "    y_valid = content['toy_y_valid'] # content['y_valid']\n",
    "    X_test = content['toy_X_test'] # content['X_test']\n",
    "    y_test = content['toy_y_test'] # content['y_test']\n",
    "    del content\n",
    "    print('Training set', X_train.shape, y_train.shape)\n",
    "    print('Validation set', X_valid.shape, y_valid.shape)\n",
    "    print('Test set', X_test.shape, y_test.shape)"
   ]
  },
  {
   "cell_type": "code",
   "execution_count": 3,
   "metadata": {
    "collapsed": false
   },
   "outputs": [
    {
     "name": "stdout",
     "output_type": "stream",
     "text": [
      "float32 float32 float32\n"
     ]
    }
   ],
   "source": [
    "print(y_test.dtype, y_train.dtype, y_valid.dtype)"
   ]
  },
  {
   "cell_type": "code",
   "execution_count": 4,
   "metadata": {
    "collapsed": false
   },
   "outputs": [],
   "source": [
    "y_test = y_test.astype('int32', copy=False)\n",
    "y_train = y_train.astype('int32', copy=False)\n",
    "y_valid = y_valid.astype('int32', copy=False)"
   ]
  },
  {
   "cell_type": "code",
   "execution_count": 5,
   "metadata": {
    "collapsed": false
   },
   "outputs": [
    {
     "name": "stdout",
     "output_type": "stream",
     "text": [
      "int32 int32 int32\n"
     ]
    }
   ],
   "source": [
    "print(y_test.dtype, y_train.dtype, y_valid.dtype)"
   ]
  },
  {
   "cell_type": "code",
   "execution_count": 6,
   "metadata": {
    "collapsed": true
   },
   "outputs": [],
   "source": [
    "def accuracy(predictions, labels):\n",
    "    \n",
    "    return (100.0 * np.sum(np.argmax(predictions, 2).T == labels) / predictions.shape[1] / predictions.shape[0])"
   ]
  },
  {
   "cell_type": "code",
   "execution_count": 20,
   "metadata": {
    "collapsed": false
   },
   "outputs": [],
   "source": [
    "img_size = 32\n",
    "n_labels = 10\n",
    "n_channels = 1\n",
    "batch_size = 64\n",
    "\n",
    "kernel_size = 3\n",
    "depth1, depth2 = 16, 32\n",
    "n_nodes_full = 128\n",
    "graph = tf.Graph()\n",
    "with graph.as_default():\n",
    "    \n",
    "    # train, validation and test data\n",
    "    tf_train_dataset = tf.placeholder(\n",
    "        tf.float32, shape=(batch_size, img_size, img_size, n_channels))\n",
    "    tf_train_labels = tf.placeholder(tf.int32, shape = (batch_size, 6))\n",
    "    tf_valid_dataset = tf.constant(X_valid)\n",
    "    tf_test_dataset = tf.constant(X_test)\n",
    "    \n",
    "    # variables\n",
    "    w1_conv = tf.get_variable('conv1',\n",
    "                                   shape=[kernel_size,kernel_size,n_channels,depth1],\n",
    "                                   initializer=tf.contrib.layers.xavier_initializer_conv2d())\n",
    "    b1_conv = tf.Variable(tf.constant(1.0, shape=[depth1], name='conv1_biases'))\n",
    "    \n",
    "    \n",
    "    w2_conv = tf.get_variable('conv2',\n",
    "                                   shape=[kernel_size,kernel_size,depth1,depth2],\n",
    "                                   initializer=tf.contrib.layers.xavier_initializer_conv2d())\n",
    "    b2_conv = tf.Variable(tf.constant(1.0, shape=[depth2], name='conv2_biases'))\n",
    "   \n",
    "    \n",
    "    w_fc = tf.get_variable('fc_weights', shape=[8*8*32, n_nodes_full],\n",
    "                             initializer=tf.contrib.layers.xavier_initializer())\n",
    "    b_fc = tf.Variable(tf.constant(1.0, shape=[n_nodes_full], name='fc_biases'))\n",
    "    \n",
    "    \n",
    "    w1_out = tf.get_variable('out_layer1', shape=[n_nodes_full, n_labels],\n",
    "                             initializer=tf.contrib.layers.xavier_initializer())\n",
    "    b1_out = tf.Variable(tf.constant(1.0, shape=[n_labels], name='out_layer1_biases'))\n",
    "    \n",
    "    \n",
    "    w2_out = tf.get_variable('out_layer2', shape=[n_nodes_full, n_labels],\n",
    "                             initializer=tf.contrib.layers.xavier_initializer())\n",
    "    b2_out = tf.Variable(tf.constant(1.0, shape=[n_labels], name='out_layer2_biases'))\n",
    "    \n",
    "    \n",
    "    \n",
    "    w3_out = tf.get_variable('out_layer3', shape=[n_nodes_full, n_labels],\n",
    "                             initializer=tf.contrib.layers.xavier_initializer())\n",
    "    b3_out = tf.Variable(tf.constant(1.0, shape=[n_labels], name='out_layer3_biases'))\n",
    "    \n",
    "    \n",
    "    w4_out = tf.get_variable('out_layer4', shape=[n_nodes_full, n_labels],\n",
    "                             initializer=tf.contrib.layers.xavier_initializer())\n",
    "    b4_out = tf.Variable(tf.constant(1.0, shape=[n_labels], name='out_layer4_biases'))\n",
    "    \n",
    "    \n",
    "    w5_out = tf.get_variable('out_layer5', shape=[n_nodes_full, n_labels],\n",
    "                             initializer=tf.contrib.layers.xavier_initializer())\n",
    "    b5_out = tf.Variable(tf.constant(1.0, shape=[n_labels], name='out_layer5_biases'))\n",
    "    \n",
    "    \n",
    "    \n",
    "    def model(dataset, keep_prob):\n",
    "        \n",
    "        conv_1 = tf.nn.conv2d(dataset, w1_conv, [1,1,1,1],'SAME') + b1_conv\n",
    "        relu_1 = tf.nn.relu(conv_1)\n",
    "        pool_1 = tf.nn.max_pool(relu_1, [1,2,2,1], [1,2,2,1], 'SAME')\n",
    "        conv_2 = tf.nn.conv2d(pool_1, w2_conv, [1,1,1,1], 'SAME') + b2_conv\n",
    "        relu_2 = tf.nn.relu(conv_2)\n",
    "        #print('drop-out layer shape is', drop.get_shape().as_list())\n",
    "        pool_2 = tf.nn.max_pool(relu_2, [1,2,2,1], [1,2,2,1], 'SAME')\n",
    "        pool_2 = tf.reshape(pool_2, (-1, 8*8*32))\n",
    "        # # print('after reshape, the shape is: ', pool_2.get_shape().as_list())\n",
    "        # print('full connected layer shape is:', w_fc.get_shape().as_list())\n",
    "        fc = tf.nn.relu(tf.matmul(pool_2, w_fc) + b_fc)\n",
    "        fc_dropped = tf.nn.dropout(fc, keep_prob)\n",
    "        out_layers = (\n",
    "            (w1_out, b1_out), (w2_out, b2_out), (w3_out, b3_out), (w4_out, b4_out), (w5_out, b5_out))\n",
    "        # logits_1 = tf.matmul(fc_droped, w1_out) + b1_out\n",
    "        # logits_2 = tf.matmul(fc_droped, w2_out) + b2_out\n",
    "        # logits_3 = tf.matmul(fc_droped, w3_out) + b3_out\n",
    "        # logits_4 = tf.matmul(fc_droped, w4_out) + b4_out\n",
    "        # logits_5 = tf.matmul(fc_droped, w5_out) + b5_out\n",
    "        # print('logits1 shape is', logits_5.get_shape().as_list())\n",
    "        logits = []\n",
    "        for i, layer in enumerate(out_layers):\n",
    "            logit = tf.matmul(fc_dropped, layer[0]) + layer[1]\n",
    "            logits.append(logit)\n",
    "        \n",
    "        return logits\n",
    "    \n",
    "    # training computation.\n",
    "    logits = model(tf_train_dataset, 1.0)\n",
    "    # print('logit shape is', logits[4].get_shape().as_list())\n",
    "    # print('train label shape is',tf_train_labels[:,5].get_shape().as_list())\n",
    "    loss_1 = tf.reduce_mean(tf.nn.sparse_softmax_cross_entropy_with_logits(logits[0], tf_train_labels[:,1]))\n",
    "    loss_2 = tf.reduce_mean(tf.nn.sparse_softmax_cross_entropy_with_logits(logits[1], tf_train_labels[:,2]))\n",
    "    loss_3 = tf.reduce_mean(tf.nn.sparse_softmax_cross_entropy_with_logits(logits[2], tf_train_labels[:,3]))\n",
    "    loss_4 = tf.reduce_mean(tf.nn.sparse_softmax_cross_entropy_with_logits(logits[3], tf_train_labels[:,4]))\n",
    "    loss_5 = tf.reduce_mean(tf.nn.sparse_softmax_cross_entropy_with_logits(logits[4], tf_train_labels[:,5]))\n",
    "\n",
    "    loss = loss_1 + loss_2 + loss_3 + loss_4 + loss_5\n",
    "    \n",
    "    # Optimizer\n",
    "    global_step = tf.Variable(0)\n",
    "    learning_rate = 0.01 # tf.train.exponential_decay(0.01, global_step, 10000, 0.93)\n",
    "    optimizer = tf.train.GradientDescentOptimizer(learning_rate).minimize(loss, global_step=global_step)\n",
    "    \n",
    "    \n",
    "    # Predictions of train, validation and test datasets\n",
    "    train_logits = model(tf_train_dataset, 0.5)\n",
    "    train_prediction = tf.pack(map(tf.nn.softmax, train_logits))\n",
    "\n",
    "    valid_logits = model(tf_valid_dataset, 1.0)\n",
    "    valid_prediction = tf.pack(map(tf.nn.softmax, valid_logits))\n",
    "\n",
    "    test_logits = model(tf_test_dataset, 1.0)\n",
    "    test_prediction = tf.pack(map(tf.nn.softmax, test_logits))\n",
    "    \n",
    "    # valid_preds = tf.nn.softmax(model(tf_valid_dataset, 1.0))\n",
    "    # test_preds = tf.nn.softmax(model(tf_test_dataset, 1.0))\n",
    "    \n",
    "    saver = tf.train.Saver()"
   ]
  },
  {
   "cell_type": "code",
   "execution_count": null,
   "metadata": {
    "collapsed": false
   },
   "outputs": [],
   "source": []
  },
  {
   "cell_type": "code",
   "execution_count": 22,
   "metadata": {
    "collapsed": false
   },
   "outputs": [
    {
     "name": "stdout",
     "output_type": "stream",
     "text": [
      "Initialized\n",
      "Minibatch loss at step 0: 72.930641\n",
      "Minibatch accuracy: 3.43750%\n",
      "Validation accuracy: 3.82500%\n",
      "Minibatch loss at step 80: 5.917111\n",
      "Minibatch accuracy: 7.81250%\n",
      "Validation accuracy: 8.82500%\n",
      "Minibatch loss at step 160: 4.845601\n",
      "Minibatch accuracy: 7.18750%\n",
      "Validation accuracy: 8.80000%\n",
      "Minibatch loss at step 240: 5.180029\n",
      "Minibatch accuracy: 7.18750%\n",
      "Validation accuracy: 8.95000%\n",
      "Minibatch loss at step 320: 4.878001\n",
      "Minibatch accuracy: 4.06250%\n",
      "Validation accuracy: 8.55000%\n",
      "Minibatch loss at step 400: 5.110351\n",
      "Minibatch accuracy: 8.12500%\n",
      "Validation accuracy: 8.40000%\n",
      "Minibatch loss at step 480: 5.306325\n",
      "Minibatch accuracy: 5.62500%\n",
      "Validation accuracy: 8.32500%\n",
      "Minibatch loss at step 560: 6.842296\n",
      "Minibatch accuracy: 8.43750%\n",
      "Validation accuracy: 7.25000%\n",
      "Minibatch loss at step 640: 20.386744\n",
      "Minibatch accuracy: 6.56250%\n",
      "Validation accuracy: 9.15000%\n",
      "Minibatch loss at step 720: 97.790588\n",
      "Minibatch accuracy: 5.62500%\n",
      "Validation accuracy: 8.80000%\n",
      "Minibatch loss at step 800: 158.337402\n",
      "Minibatch accuracy: 6.87500%\n",
      "Validation accuracy: 7.00000%\n",
      "Test accuracy: 6.1%\n"
     ]
    }
   ],
   "source": [
    "num_steps = 801 # 100001\n",
    "\n",
    "with tf.Session(graph=graph) as session:\n",
    "    tf.initialize_all_variables().run()  \n",
    "    # reader = tf.train.NewCheckpointReader(\"CNN_1.ckpt\")\n",
    "    # reader.get_variable_to_shape_map()\n",
    "    # saver.restore(session, \"CNN_1.ckpt\")\n",
    "    # print(\"Model restored.\")\n",
    "\n",
    "    print('Initialized')\n",
    "    for step in range(num_steps):\n",
    "        offset = (step * batch_size) % (y_train.shape[0] - batch_size)\n",
    "        batch_data = X_train[offset:(offset + batch_size), :, :, :]\n",
    "        batch_labels = y_train[offset:(offset + batch_size),:]\n",
    "        feed_dict = {tf_train_dataset : batch_data, tf_train_labels : batch_labels}\n",
    "        _, l, predictions = session.run(\n",
    "            [optimizer, loss, train_prediction], feed_dict=feed_dict)\n",
    "\n",
    "        if (step % 80 == 0): \n",
    "            print('Minibatch loss at step %d: %f' % (step, l))\n",
    "            print('Minibatch accuracy: %.5f%%' % accuracy(predictions, batch_labels[:,1:]))\n",
    "            print('Validation accuracy: %.5f%%' % accuracy(valid_prediction.eval(), y_valid[:,1:]))\n",
    "    print('Test accuracy: %.1f%%' % accuracy(test_prediction.eval(), y_test[:,1:]))\n",
    "    # save_path = saver.save(session, \"CNN_multi.ckpt\")\n",
    "    # print(\"Model saved in file: %s\" % save_path)"
   ]
  },
  {
   "cell_type": "code",
   "execution_count": null,
   "metadata": {
    "collapsed": true
   },
   "outputs": [],
   "source": []
  },
  {
   "cell_type": "code",
   "execution_count": null,
   "metadata": {
    "collapsed": true
   },
   "outputs": [],
   "source": []
  },
  {
   "cell_type": "code",
   "execution_count": null,
   "metadata": {
    "collapsed": true
   },
   "outputs": [],
   "source": []
  }
 ],
 "metadata": {
  "kernelspec": {
   "display_name": "Python 2",
   "language": "python",
   "name": "python2"
  },
  "language_info": {
   "codemirror_mode": {
    "name": "ipython",
    "version": 2
   },
   "file_extension": ".py",
   "mimetype": "text/x-python",
   "name": "python",
   "nbconvert_exporter": "python",
   "pygments_lexer": "ipython2",
   "version": "2.7.12"
  }
 },
 "nbformat": 4,
 "nbformat_minor": 0
}
