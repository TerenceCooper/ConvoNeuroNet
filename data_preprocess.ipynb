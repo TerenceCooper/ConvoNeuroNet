{
 "cells": [
  {
   "cell_type": "code",
   "execution_count": 1,
   "metadata": {
    "collapsed": true
   },
   "outputs": [],
   "source": [
    "import os\n",
    "import numpy as np\n",
    "import matplotlib.pyplot as plt\n",
    "import PIL.Image as Image\n",
    "import sys\n",
    "import tensorflow as tf\n",
    "from six.moves import cPickle as pickle\n",
    "from __future__ import print_function\n",
    "%matplotlib inline"
   ]
  },
  {
   "cell_type": "code",
   "execution_count": 3,
   "metadata": {
    "collapsed": false
   },
   "outputs": [
    {
     "data": {
      "text/plain": [
       "(h5py._hl.dataset.Dataset, 33402)"
      ]
     },
     "execution_count": 3,
     "metadata": {},
     "output_type": "execute_result"
    }
   ],
   "source": [
    "type(mat['digitStruct']['name']), len(mat['digitStruct']['name'])"
   ]
  },
  {
   "cell_type": "code",
   "execution_count": 25,
   "metadata": {
    "collapsed": false
   },
   "outputs": [],
   "source": [
    "list_ = []\n",
    "def getBoxes(data):\n",
    "    if len(data) > 1:\n",
    "        l = [mat[data[i].item()].value[0][0] for i in range(len(data))]\n",
    "    else:\n",
    "        l = [data.value[0][0]]\n",
    "    return l\n",
    "# for n in np.random.randint(0, 33000,size=10):\n",
    "for n in [1]:\n",
    "    attrs = {}\n",
    "    bb = mat['digitStruct']['bbox'][n].item()\n",
    "    h = mat[bb]['height']\n",
    "    w = mat[bb]['width']\n",
    "    l = mat[bb]['left']\n",
    "    t = mat[bb]['top']\n",
    "    label = [mat[mat[bb]['label'].value[0,0]].value[0,0], mat[mat[bb]['label'].value[1,0]].value[0,0]]\n",
    "    \n",
    "    attrs['label'] = label\n",
    "    attrs['number'] = n\n",
    "    attrs['height'] = getBoxes(h)\n",
    "    attrs['width'] = getBoxes(w)\n",
    "    attrs['left'] = getBoxes(l)\n",
    "    attrs['top'] = getBoxes(t)\n",
    "    list_.append(attrs)\n",
    "# list_.sort(key=lambda e: e['number'])"
   ]
  },
  {
   "cell_type": "code",
   "execution_count": 26,
   "metadata": {
    "collapsed": false
   },
   "outputs": [
    {
     "data": {
      "text/plain": [
       "[{'height': [32.0, 32.0],\n",
       "  'label': [2.0, 3.0],\n",
       "  'left': [77.0, 98.0],\n",
       "  'number': 1,\n",
       "  'top': [29.0, 25.0],\n",
       "  'width': [23.0, 26.0]}]"
      ]
     },
     "execution_count": 26,
     "metadata": {},
     "output_type": "execute_result"
    }
   ],
   "source": [
    "list_"
   ]
  },
  {
   "cell_type": "code",
   "execution_count": 12,
   "metadata": {
    "collapsed": false
   },
   "outputs": [],
   "source": [
    "os.path?"
   ]
  },
  {
   "cell_type": "code",
   "execution_count": 2,
   "metadata": {
    "collapsed": false
   },
   "outputs": [],
   "source": [
    "class MatFile():\n",
    "    def __init__(self, mat_name):\n",
    "        import h5py\n",
    "        self._file = h5py.File(mat_name)\n",
    "        self.number_of_records = len(self._file['digitStruct']['name'])\n",
    "        self.name = mat_name\n",
    "        self.box_info = ('left', 'top', 'height', 'width')\n",
    "        \n",
    "    def getImgFileName(self, n):\n",
    "        f_name = ''.join([chr(c) for c in self._file[self._file['digitStruct']['name'][n][0]].value])\n",
    "        name = os.path.split(self.name)[0]+'/'+f_name\n",
    "        \n",
    "        return name\n",
    "\n",
    "\n",
    "    def getBoxesAndLabels(self, n):\n",
    "        ref = self._file['digitStruct']['bbox'][n].item()\n",
    "        \n",
    "        temp = self._file[ref]\n",
    "        boxes = {elem: self.boxHelper(temp[elem]) for elem in self.box_info}\n",
    "        \n",
    "        # labels = []\n",
    "        # label_len = len(boxes['left'])\n",
    "        # for i in np.arange(label_len):\n",
    "        #    label = self._file[self._file[ref]['label'].value[i,0]].value[0,0]\n",
    "        #    labels.append(label)\n",
    "        \n",
    "        if len(boxes['left'])>1:\n",
    "            labels = [self._file[self._file[ref]['label'].value[i,0]].value[0,0]\n",
    "                      for i in np.arange(len(boxes['left']))]\n",
    "        else:\n",
    "            labels = [self._file[ref]['label'].value[0,0]]\n",
    "            \n",
    "        return boxes, labels\n",
    "    \n",
    "    \n",
    "    \n",
    "    def boxHelper(self, attr):\n",
    "        if len(attr) > 1:\n",
    "            l = [self._file[attr[i].item()].value[0][0] for i in range(len(attr))]\n",
    "        else:\n",
    "            l = [attr.value[0][0]]\n",
    "        return l\n",
    "    \n"
   ]
  },
  {
   "cell_type": "code",
   "execution_count": 3,
   "metadata": {
    "collapsed": true
   },
   "outputs": [],
   "source": [
    "mat = MatFile('train/digitStruct.mat')"
   ]
  },
  {
   "cell_type": "code",
   "execution_count": 4,
   "metadata": {
    "collapsed": false
   },
   "outputs": [
    {
     "name": "stdout",
     "output_type": "stream",
     "text": [
      "train/24435.png \n",
      " {'width': [8.0], 'top': [7.0], 'height': [22.0], 'left': [41.0]} \n",
      " [3.0]\n",
      "33402\n"
     ]
    }
   ],
   "source": [
    "n_img_file = 24434\n",
    "im_name = mat.getImgFileName(n_img_file)\n",
    "im_boxes, im_labels = mat.getBoxesAndLabels(n_img_file)\n",
    "print(im_name, '\\n', im_boxes, '\\n', im_labels)\n",
    "print(mat.number_of_records)"
   ]
  },
  {
   "cell_type": "code",
   "execution_count": 5,
   "metadata": {
    "collapsed": false
   },
   "outputs": [
    {
     "name": "stdout",
     "output_type": "stream",
     "text": [
      "train data counter: {1: 5137, 2: 18130, 3: 8691, 4: 1434, 5: 9, 6: 1}\n",
      "test data counter: {1: 2483, 2: 8356, 3: 2081, 4: 146, 5: 2, 6: 0}\n",
      "extra data counter: {1: 9385, 2: 71726, 3: 106789, 4: 14338, 5: 115, 6: 0}\n"
     ]
    }
   ],
   "source": [
    "folders = ('train', 'test', 'extra')\n",
    "train_info, test_info, extra_info={},{},{}\n",
    "for folder in folders:\n",
    "    counter = {2: 0, 3: 0, 4: 0, 5: 0, 6: 0}\n",
    "    mat = MatFile(folder+'/digitStruct.mat')\n",
    "    for n in range(mat.number_of_records):\n",
    "        _, labels = mat.getBoxesAndLabels(n)\n",
    "        try:\n",
    "            counter[len(labels)] += 1\n",
    "        except KeyError:\n",
    "            counter[len(labels)] = 1\n",
    "    if folder == 'train':\n",
    "        train_info = counter\n",
    "    elif folder == 'test':\n",
    "        test_info = counter\n",
    "    else:\n",
    "        extra_info = counter\n",
    "print('train data counter:', train_info)\n",
    "print('test data counter:', test_info)\n",
    "print('extra data counter:', extra_info)"
   ]
  },
  {
   "cell_type": "code",
   "execution_count": 16,
   "metadata": {
    "collapsed": false
   },
   "outputs": [
    {
     "data": {
      "image/png": "[encoded data removed]",
      "text/plain": [
       "<matplotlib.figure.Figure at 0x7efe7d7c7d50>"
      ]
     },
     "metadata": {},
     "output_type": "display_data"
    }
   ],
   "source": [
    "plt.figure(figsize=(16,10), dpi=75)\n",
    "plt.bar(map(lambda n: n-0.4, train_info.keys()), train_info.values())\n",
    "#plt.bar(map(lambda n: n-0.4, test_info.keys()), test_info.values())\n",
    "#plt.bar(map(lambda n: n-0.4, extra_info.keys()), extra_info.values())\n",
    "plt.title('number of different labels in train data')\n",
    "# plt.legend(['expected net rewards'])\n",
    "plt.xlabel('length of labels')\n",
    "plt.ylabel('quantity of each lable')\n",
    "plt.show()"
   ]
  },
  {
   "cell_type": "code",
   "execution_count": 3,
   "metadata": {
    "collapsed": false
   },
   "outputs": [],
   "source": [
    "def getTargetBox(boxes, img):\n",
    "       \n",
    "    left = np.amin(boxes['left'])\n",
    "    top = np.amin(boxes['top'])\n",
    "    width = np.amax(boxes['left']) + boxes['width'][np.argmax(boxes['left'])] - left\n",
    "    height = np.amax(boxes['left']) + boxes['height'][np.argmax(boxes['left'])] - left\n",
    "    \n",
    "    left = int(np.floor(left - 0.1 * width))\n",
    "    higher = int(np.floor(top - 0.1 * height))\n",
    "    right = int(np.amin([np.ceil(left + 1.2 * width), img.size[0]]))\n",
    "    lower = int(np.amin([np.ceil(top + 1.2 * height), img.size[1]]))\n",
    "    \n",
    "       \n",
    "    return (left, higher, right, lower)"
   ]
  },
  {
   "cell_type": "code",
   "execution_count": 9,
   "metadata": {
    "collapsed": true
   },
   "outputs": [],
   "source": [
    "def generateData(mat):\n",
    "    data = np.ndarray([mat.number_of_records, 32, 32, 1], dtype='float32')\n",
    "    labels = np.ones([mat.number_of_records, 6], dtype='float32')*10\n",
    "    for i in xrange(mat.number_of_records):\n",
    "        if i%20000 == 0: print('The ', i, 'th file is in process! Be patient, please.')\n",
    "        img = Image.open(mat.getImgFileName(i))\n",
    "        \n",
    "        boxes, labels_i = mat.getBoxesAndLabels(i)\n",
    "        l = len(labels_i)\n",
    "        labels[i, 0] = l\n",
    "        if l-5 > 0:\n",
    "            print('Picture ', i, ' has more than 5 digits.')\n",
    "            l = 5\n",
    "        for j in range(l): labels[i, j+1] = labels_i[j]\n",
    "            \n",
    "        target_box = getTargetBox(boxes, img)\n",
    "        img = img.crop(target_box).resize([32,32], Image.ANTIALIAS)\n",
    "        \n",
    "        # Color to gray. \n",
    "        img = np.dot(np.array(img, dtype='float32'), [[0.2989],[0.5870],[0.1140]])\n",
    "        \n",
    "        # Global contrast normalization\n",
    "        # mean = np.mean(img, dtype='float32')\n",
    "        # std = np.std(img, dtype='float32', ddof=1)\n",
    "        # if std - (1e-4) < 0: std = 1.\n",
    "        # img = (img-mean)/std\n",
    "        \n",
    "        data[i,:,:,:] = img[:,:,:]\n",
    "    print(mat.name, 'completed!')\n",
    "    return data, labels"
   ]
  },
  {
   "cell_type": "code",
   "execution_count": null,
   "metadata": {
    "collapsed": false
   },
   "outputs": [],
   "source": [
    "folders = ('train',)# , 'test', 'extra')\n",
    "X, y = {}, {}\n",
    "for folder in folders:\n",
    "    mat = MatFile(folder+'/digitStruct.mat')\n",
    "    X[folder], y[folder] = generateData(mat)\n",
    "    \n",
    "X_train, y_train = generateData(mat)\n",
    "print(X_train.shape, y_train.shape)"
   ]
  },
  {
   "cell_type": "code",
   "execution_count": 7,
   "metadata": {
    "collapsed": false
   },
   "outputs": [
    {
     "name": "stdout",
     "output_type": "stream",
     "text": [
      "[ 6.  1.  3.  5.  4.  5.]\n"
     ]
    }
   ],
   "source": [
    "p = Image.fromarray(X_train[29929][:,:,0])\n",
    "p.show()\n",
    "print(y_train[29929])"
   ]
  },
  {
   "cell_type": "code",
   "execution_count": 8,
   "metadata": {
    "collapsed": false
   },
   "outputs": [
    {
     "name": "stdout",
     "output_type": "stream",
     "text": [
      "(33401, 32, 32, 1) (33401, 6)\n"
     ]
    }
   ],
   "source": [
    "X_train = np.delete(X_train, 29929, axis=0)\n",
    "y_train = np.delete(y_train, 29929, axis=0)\n",
    "print(X_train.shape, y_train.shape)"
   ]
  },
  {
   "cell_type": "code",
   "execution_count": 10,
   "metadata": {
    "collapsed": false
   },
   "outputs": [
    {
     "name": "stdout",
     "output_type": "stream",
     "text": [
      "The  0 th file is in process! Be patient, please.\n",
      "test/digitStruct.mat completed!\n",
      "The  0 th file is in process! Be patient, please.\n",
      "The  20000 th file is in process! Be patient, please.\n",
      "The  40000 th file is in process! Be patient, please.\n",
      "The  60000 th file is in process! Be patient, please.\n",
      "The  80000 th file is in process! Be patient, please.\n",
      "The  100000 th file is in process! Be patient, please.\n",
      "The  120000 th file is in process! Be patient, please.\n",
      "The  140000 th file is in process! Be patient, please.\n",
      "The  160000 th file is in process! Be patient, please.\n",
      "The  180000 th file is in process! Be patient, please.\n",
      "The  200000 th file is in process! Be patient, please.\n",
      "extra/digitStruct.mat completed!\n"
     ]
    }
   ],
   "source": [
    "folders = ('test', 'extra')\n",
    "X, y = {}, {}\n",
    "for folder in folders:\n",
    "    mat = MatFile(folder+'/digitStruct.mat')\n",
    "    X[folder], y[folder] = generateData(mat)"
   ]
  },
  {
   "cell_type": "code",
   "execution_count": 12,
   "metadata": {
    "collapsed": false
   },
   "outputs": [
    {
     "name": "stdout",
     "output_type": "stream",
     "text": [
      "(202353, 32, 32, 1) (202353, 6)\n",
      "(13068, 32, 32, 1) (13068, 6)\n"
     ]
    }
   ],
   "source": [
    "X_extra, y_extra = X['extra'], y['extra']\n",
    "X_test, y_test = X['test'], y['test']\n",
    "print(X_extra.shape, y_extra.shape)\n",
    "print(X_test.shape, y_test.shape)"
   ]
  },
  {
   "cell_type": "code",
   "execution_count": 13,
   "metadata": {
    "collapsed": false
   },
   "outputs": [
    {
     "name": "stdout",
     "output_type": "stream",
     "text": [
      "(200353, 32, 32, 1) (2000, 32, 32, 1)\n"
     ]
    }
   ],
   "source": [
    "X_extra, X_valid = np.split(X_extra, [-2000])\n",
    "print(X_extra.shape, X_valid.shape)"
   ]
  },
  {
   "cell_type": "code",
   "execution_count": 14,
   "metadata": {
    "collapsed": false
   },
   "outputs": [
    {
     "name": "stdout",
     "output_type": "stream",
     "text": [
      "(233754, 32, 32, 1)\n"
     ]
    }
   ],
   "source": [
    "X_train = np.concatenate((X_train, X_extra))\n",
    "print(X_train.shape)"
   ]
  },
  {
   "cell_type": "code",
   "execution_count": 15,
   "metadata": {
    "collapsed": true
   },
   "outputs": [],
   "source": [
    "y_extra, y_valid = np.split(y_extra, [-2000])\n",
    "y_train = np.concatenate((y_train, y_extra))"
   ]
  },
  {
   "cell_type": "code",
   "execution_count": 16,
   "metadata": {
    "collapsed": false
   },
   "outputs": [
    {
     "name": "stdout",
     "output_type": "stream",
     "text": [
      "(233754, 6)\n"
     ]
    }
   ],
   "source": [
    "print(y_train.shape)"
   ]
  },
  {
   "cell_type": "code",
   "execution_count": null,
   "metadata": {
    "collapsed": false
   },
   "outputs": [],
   "source": []
  },
  {
   "cell_type": "code",
   "execution_count": null,
   "metadata": {
    "collapsed": false
   },
   "outputs": [],
   "source": []
  },
  {
   "cell_type": "code",
   "execution_count": 17,
   "metadata": {
    "collapsed": true
   },
   "outputs": [],
   "source": [
    "def shuffleDataAndLabels(X, y):\n",
    "    random_state = np.random.get_state()\n",
    "    np.random.shuffle(X)\n",
    "    np.random.set_state(random_state)\n",
    "    np.random.shuffle(y)"
   ]
  },
  {
   "cell_type": "code",
   "execution_count": 18,
   "metadata": {
    "collapsed": false
   },
   "outputs": [],
   "source": [
    "# scramble the original train and extra data\n",
    "shuffleDataAndLabels(X_train, y_train)\n",
    "shuffleDataAndLabels(X_train, y_train)"
   ]
  },
  {
   "cell_type": "code",
   "execution_count": 51,
   "metadata": {
    "collapsed": false
   },
   "outputs": [
    {
     "data": {
      "text/plain": [
       "array([123179, 196734, 213837])"
      ]
     },
     "execution_count": 51,
     "metadata": {},
     "output_type": "execute_result"
    }
   ],
   "source": [
    "rand = np.random.randint(0, 229754, size=3)\n",
    "rand"
   ]
  },
  {
   "cell_type": "code",
   "execution_count": 55,
   "metadata": {
    "collapsed": false
   },
   "outputs": [
    {
     "name": "stdout",
     "output_type": "stream",
     "text": [
      "[  2.   2.   1.  10.  10.  10.]\n",
      "[  1.   2.  10.  10.  10.  10.]\n",
      "[  2.   1.   9.  10.  10.  10.]\n"
     ]
    }
   ],
   "source": [
    "for a in rand:\n",
    "    print(y_train[a])"
   ]
  },
  {
   "cell_type": "code",
   "execution_count": 56,
   "metadata": {
    "collapsed": true
   },
   "outputs": [],
   "source": [
    "for n in rand:\n",
    "    p = Image.fromarray(X_train[n][:,:,0])\n",
    "    p.show()"
   ]
  },
  {
   "cell_type": "code",
   "execution_count": 19,
   "metadata": {
    "collapsed": false
   },
   "outputs": [
    {
     "name": "stdout",
     "output_type": "stream",
     "text": [
      "Compressed pickle size: 1025147028\n"
     ]
    }
   ],
   "source": [
    "pickle_file = 'SVHN'\n",
    "\n",
    "try:\n",
    "    with open(pickle_file, 'wb') as write_file:\n",
    "        content_to_save = {\n",
    "            'X_train': X_train,\n",
    "            'y_train': y_train,\n",
    "            'X_test': X_test,\n",
    "            'y_test': y_test,\n",
    "            'X_valid': X_valid,\n",
    "            'y_valid': y_valid\n",
    "            }\n",
    "        pickle.dump(content_to_save, write_file, pickle.HIGHEST_PROTOCOL)\n",
    "\n",
    "except Exception as e:\n",
    "    print('Unable to save data to', pickle_file, ':', e)\n",
    "    raise\n",
    "    \n",
    "statinfo = os.stat(pickle_file)\n",
    "print('Compressed pickle size:', statinfo.st_size)"
   ]
  },
  {
   "cell_type": "code",
   "execution_count": 20,
   "metadata": {
    "collapsed": true
   },
   "outputs": [],
   "source": [
    "def sampleDataAndLabels(datas, labels, n_samples):\n",
    "    idx = np.arange(len(labels))\n",
    "    # perm = np.random.permutation(idx)\n",
    "    # sample_datas = datas[perm]\n",
    "    # sample_labels = labels[perm]\n",
    "    # random_state = np.random.get_state()\n",
    "    sample_idx = np.random.choice(idx, size=n_samples, replace=False)\n",
    "    sample_datas = datas[sample_idx]\n",
    "    sample_labels = labels[sample_idx]\n",
    "    # np.random.set_state(random_state)\n",
    "    #sample_labels = np.random.choice(labels, size=n_samples, replace=False)\n",
    "    \n",
    "    return sample_datas, sample_labels"
   ]
  },
  {
   "cell_type": "code",
   "execution_count": 16,
   "metadata": {
    "collapsed": false
   },
   "outputs": [
    {
     "data": {
      "text/plain": [
       "(1, 32, 32, 1)"
      ]
     },
     "execution_count": 16,
     "metadata": {},
     "output_type": "execute_result"
    }
   ],
   "source": [
    "single_point.shape"
   ]
  },
  {
   "cell_type": "code",
   "execution_count": 19,
   "metadata": {
    "collapsed": false
   },
   "outputs": [
    {
     "name": "stdout",
     "output_type": "stream",
     "text": [
      "[[  3.   8.  10.   8.  10.  10.]]\n",
      "position is [1685]\n"
     ]
    }
   ],
   "source": [
    "single_point, single_label, n = sampleDataAndLabels(X_valid, y_valid, 1)\n",
    "p = Image.fromarray(single_point[0,:,:,0])\n",
    "p.show()\n",
    "print(single_label)\n",
    "print('position is', n)"
   ]
  },
  {
   "cell_type": "code",
   "execution_count": 4,
   "metadata": {
    "collapsed": false
   },
   "outputs": [],
   "source": [
    "pickle_file2 = 'toy_data.pickle'\n",
    "\n",
    "toy_train_size, toy_test_size, toy_valid_size = 10000, 1000, 800\n",
    "\n",
    "toy_X_train, toy_y_train = sampleDataAndLabels(X_train, y_train, toy_train_size)\n",
    "toy_X_test, toy_y_test = sampleDataAndLabels(X_test, y_test, toy_test_size)\n",
    "toy_X_valid, toy_y_valid = sampleDataAndLabels(X_valid, y_valid, toy_valid_size)\n",
    "\n",
    "\n",
    "try:\n",
    "    with open(pickle_file2, 'wb') as writeFile:\n",
    "        content_to_save = {\n",
    "            'toy_X_train': toy_X_train,\n",
    "            'toy_y_train': toy_y_train,\n",
    "            'toy_X_test': toy_X_test,\n",
    "            'toy_y_test': toy_y_test,\n",
    "            'toy_X_valid': toy_X_valid,\n",
    "            'toy_y_valid': toy_y_valid\n",
    "            }\n",
    "        pickle.dump(content_to_save, writeFile, pickle.HIGHEST_PROTOCOL)\n",
    "except Exception as e:\n",
    "    print('Failed save data to', pickle_file2, ':', e)\n",
    "    raise"
   ]
  },
  {
   "cell_type": "code",
   "execution_count": 23,
   "metadata": {
    "collapsed": false
   },
   "outputs": [
    {
     "data": {
      "text/plain": [
       "['talking_data',\n",
       " 'test',\n",
       " 'test.tar.gz',\n",
       " 'conv_net.ipynb',\n",
       " 'data_preprocess.ipynb',\n",
       " 'train',\n",
       " 'toy_data.pickle',\n",
       " 'extra',\n",
       " 'train.tar.gz',\n",
       " '.ipynb_checkpoints',\n",
       " 'SVHN.pickle',\n",
       " 'single_digit',\n",
       " 'extra.tar.gz',\n",
       " 'example.ipynb']"
      ]
     },
     "execution_count": 23,
     "metadata": {},
     "output_type": "execute_result"
    }
   ],
   "source": [
    "os.listdir('./')"
   ]
  },
  {
   "cell_type": "code",
   "execution_count": null,
   "metadata": {
    "collapsed": true
   },
   "outputs": [],
   "source": []
  },
  {
   "cell_type": "code",
   "execution_count": 28,
   "metadata": {
    "collapsed": false
   },
   "outputs": [
    {
     "name": "stdout",
     "output_type": "stream",
     "text": [
      "['1', '.', 'p', 'n', 'g']\n",
      "['2', '.', 'p', 'n', 'g']\n"
     ]
    }
   ],
   "source": [
    "for i in range(0, 2):\n",
    "    print(map(chr, mat[mat['digitStruct']['name'][i][0]].value))"
   ]
  },
  {
   "cell_type": "code",
   "execution_count": 5,
   "metadata": {
    "collapsed": false
   },
   "outputs": [
    {
     "data": {
      "text/plain": [
       "array([[ 37.]])"
      ]
     },
     "execution_count": 5,
     "metadata": {},
     "output_type": "execute_result"
    }
   ],
   "source": [
    "mat[mat[mat['digitStruct']['bbox'][901].item()]['height'].value[0].item()].value"
   ]
  },
  {
   "cell_type": "code",
   "execution_count": 36,
   "metadata": {
    "collapsed": false
   },
   "outputs": [
    {
     "data": {
      "text/plain": [
       "(33402, 33402)"
      ]
     },
     "execution_count": 36,
     "metadata": {},
     "output_type": "execute_result"
    }
   ],
   "source": [
    "len(mat['digitStruct']['bbox']), len(mat['digitStruct']['name'])"
   ]
  },
  {
   "cell_type": "code",
   "execution_count": 51,
   "metadata": {
    "collapsed": false
   },
   "outputs": [
    {
     "name": "stdout",
     "output_type": "stream",
     "text": [
      "\tKey: #refs#\n",
      "\tKey: digitStruct\n"
     ]
    }
   ],
   "source": [
    "print_mat_nested(mat_f, 1, 2)"
   ]
  },
  {
   "cell_type": "code",
   "execution_count": 46,
   "metadata": {
    "collapsed": false
   },
   "outputs": [
    {
     "data": {
      "text/plain": [
       "dict"
      ]
     },
     "execution_count": 46,
     "metadata": {},
     "output_type": "execute_result"
    }
   ],
   "source": [
    "import scipy.io as sio\n",
    "data_test = sio.loadmat('test_32x32.mat')\n",
    "type(data_test)"
   ]
  },
  {
   "cell_type": "code",
   "execution_count": 55,
   "metadata": {
    "collapsed": false
   },
   "outputs": [
    {
     "data": {
      "text/plain": [
       "(32, 32, 3, 26032)"
      ]
     },
     "execution_count": 55,
     "metadata": {},
     "output_type": "execute_result"
    }
   ],
   "source": [
    "data_test['X'].shape"
   ]
  },
  {
   "cell_type": "code",
   "execution_count": 57,
   "metadata": {
    "collapsed": false
   },
   "outputs": [
    {
     "data": {
      "text/plain": [
       "array([ 38, 129, 150, ..., 115,  96, 101], dtype=uint8)"
      ]
     },
     "execution_count": 57,
     "metadata": {},
     "output_type": "execute_result"
    }
   ],
   "source": [
    "data_test['X'][0,0,0]"
   ]
  },
  {
   "cell_type": "code",
   "execution_count": null,
   "metadata": {
    "collapsed": false
   },
   "outputs": [],
   "source": []
  },
  {
   "cell_type": "code",
   "execution_count": null,
   "metadata": {
    "collapsed": true
   },
   "outputs": [],
   "source": []
  }
 ],
 "metadata": {
  "kernelspec": {
   "display_name": "Python 2",
   "language": "python",
   "name": "python2"
  },
  "language_info": {
   "codemirror_mode": {
    "name": "ipython",
    "version": 2
   },
   "file_extension": ".py",
   "mimetype": "text/x-python",
   "name": "python",
   "nbconvert_exporter": "python",
   "pygments_lexer": "ipython2",
   "version": "2.7.12"
  }
 },
 "nbformat": 4,
 "nbformat_minor": 0
}
