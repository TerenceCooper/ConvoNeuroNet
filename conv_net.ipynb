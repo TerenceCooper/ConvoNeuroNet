{
 "cells": [
  {
   "cell_type": "code",
   "execution_count": 1,
   "metadata": {
    "collapsed": true
   },
   "outputs": [],
   "source": [
    "from __future__ import print_function\n",
    "import matplotlib.pyplot as plt\n",
    "import numpy as np\n",
    "import tensorflow as tf\n",
    "from six.moves import cPickle as pickle\n",
    "from six.moves import range\n",
    "import time"
   ]
  },
  {
   "cell_type": "code",
   "execution_count": 2,
   "metadata": {
    "collapsed": false
   },
   "outputs": [
    {
     "name": "stdout",
     "output_type": "stream",
     "text": [
      "Training set (10000, 32, 32, 1) (10000, 6)\n",
      "Validation set (800, 32, 32, 1) (800, 6)\n",
      "Test set (1000, 32, 32, 1) (1000, 6)\n"
     ]
    }
   ],
   "source": [
    "# pickle_file = 'SVHN.pickle'\n",
    "pickle_file = 'toy_data.pickle'\n",
    "with open(pickle_file, 'rb') as inFile:\n",
    "    content = pickle.load(inFile)\n",
    "    X_train = content['toy_X_train']\n",
    "    y_train = content['toy_y_train']\n",
    "    X_valid = content['toy_X_valid']\n",
    "    y_valid = content['toy_y_valid']\n",
    "    X_test = content['toy_X_test']\n",
    "    y_test = content['toy_y_test']\n",
    "    \n",
    "    #X_train = content['X_train']\n",
    "    #y_train = content['y_train']\n",
    "    #X_valid = content['X_valid']\n",
    "    #y_valid = content['y_valid']\n",
    "    #X_test =  content['X_test']\n",
    "    #y_test =  content['y_test']\n",
    "    del content\n",
    "    print('Training set', X_train.shape, y_train.shape)\n",
    "    print('Validation set', X_valid.shape, y_valid.shape)\n",
    "    print('Test set', X_test.shape, y_test.shape)"
   ]
  },
  {
   "cell_type": "code",
   "execution_count": 3,
   "metadata": {
    "collapsed": false
   },
   "outputs": [
    {
     "name": "stdout",
     "output_type": "stream",
     "text": [
      "float32 float32 float32\n"
     ]
    }
   ],
   "source": [
    "print(y_test.dtype, y_train.dtype, y_valid.dtype)"
   ]
  },
  {
   "cell_type": "code",
   "execution_count": 4,
   "metadata": {
    "collapsed": false
   },
   "outputs": [
    {
     "name": "stdout",
     "output_type": "stream",
     "text": [
      "int32 int32 int32\n"
     ]
    }
   ],
   "source": [
    "y_test = y_test.astype('int32', copy=False)\n",
    "y_train = y_train.astype('int32', copy=False)\n",
    "y_valid = y_valid.astype('int32', copy=False)\n",
    "\n",
    "print(y_test.dtype, y_train.dtype, y_valid.dtype)"
   ]
  },
  {
   "cell_type": "code",
   "execution_count": 5,
   "metadata": {
    "collapsed": true
   },
   "outputs": [],
   "source": [
    "def accuracy(predictions, labels):\n",
    "    return (100.0 * np.sum(np.argmax(predictions, 2).T == labels[:,1:]) / (5*len(labels)))"
   ]
  },
  {
   "cell_type": "code",
   "execution_count": 6,
   "metadata": {
    "collapsed": true
   },
   "outputs": [],
   "source": [
    "#def accuracy(predictions, labels):\n",
    "#    print(predictions.shape)\n",
    "#    print(labels[:,1].shape)\n",
    "#    print(np.argmax(predictions, 1).T.shape)\n",
    "#    return (100.0 * np.sum(np.argmax(predictions, 1).T == labels[:,1]) / len(labels))"
   ]
  },
  {
   "cell_type": "code",
   "execution_count": 22,
   "metadata": {
    "collapsed": false
   },
   "outputs": [],
   "source": [
    "img_size = 32\n",
    "n_labels = 11\n",
    "n_channels = 1\n",
    "batch_size = 10\n",
    "# n_digits = 1\n",
    "keep_prob = 1.0\n",
    "kernel_size = 3\n",
    "depth1, depth2, depth3 = 16, 32, 64\n",
    "n_nodes_full = 64\n",
    "\n",
    "graph = tf.Graph()\n",
    "with graph.as_default():\n",
    "    \n",
    "    # train, validation and test data\n",
    "    with tf.name_scope(\"input_data\") as scope:\n",
    "        tf_train_dataset = tf.placeholder(\n",
    "            tf.float32, shape=(batch_size, img_size, img_size, n_channels))\n",
    "        tf_train_labels = tf.placeholder(tf.int32, shape = (batch_size, 6))\n",
    "        tf_valid_dataset = tf.constant(X_valid)\n",
    "        tf_test_dataset = tf.constant(X_test)\n",
    "    \n",
    "    # variables\n",
    "    with tf.name_scope(\"weights_and_biases\") as scope:\n",
    "        w1_conv = tf.get_variable('conv1',\n",
    "                                   shape=[kernel_size,kernel_size,n_channels,depth1],\n",
    "                                   initializer=tf.contrib.layers.xavier_initializer_conv2d())\n",
    "        b1_conv = tf.Variable(tf.constant(1.0, shape=[depth1], name='conv1_biases'))\n",
    "    \n",
    "    \n",
    "        w2_conv = tf.get_variable('conv2',\n",
    "                                   shape=[kernel_size,kernel_size,depth1,depth2],\n",
    "                                   initializer=tf.contrib.layers.xavier_initializer_conv2d())\n",
    "        b2_conv = tf.Variable(tf.constant(1.0, shape=[depth2], name='conv2_biases'))\n",
    "        \n",
    "        \n",
    "        w3_conv = tf.get_variable('conv3',\n",
    "                                   shape=[kernel_size,kernel_size,depth2,depth3],\n",
    "                                   initializer=tf.contrib.layers.xavier_initializer_conv2d())\n",
    "        b3_conv = tf.Variable(tf.constant(1.0, shape=[depth3], name='conv3_biases'))\n",
    "   \n",
    "    \n",
    "        w_fc = tf.get_variable('fc_weights', shape=[8*8*64, n_nodes_full],\n",
    "                             initializer=tf.contrib.layers.xavier_initializer())\n",
    "        b_fc = tf.Variable(tf.constant(1.0, shape=[n_nodes_full], name='fc_biases'))\n",
    "    \n",
    "    \n",
    "        w1_out = tf.get_variable('out_layer1', shape=[n_nodes_full, n_labels],\n",
    "                             initializer=tf.contrib.layers.xavier_initializer())\n",
    "        b1_out = tf.Variable(tf.constant(1.0, shape=[n_labels], name='out_layer1_biases'))\n",
    "    \n",
    "    \n",
    "        w2_out = tf.get_variable('out_layer2', shape=[n_nodes_full, n_labels],\n",
    "                             initializer=tf.contrib.layers.xavier_initializer())\n",
    "        b2_out = tf.Variable(tf.constant(1.0, shape=[n_labels], name='out_layer2_biases'))\n",
    "    \n",
    "    \n",
    "    \n",
    "        w3_out = tf.get_variable('out_layer3', shape=[n_nodes_full, n_labels],\n",
    "                             initializer=tf.contrib.layers.xavier_initializer())\n",
    "        b3_out = tf.Variable(tf.constant(1.0, shape=[n_labels], name='out_layer3_biases'))\n",
    "    \n",
    "    \n",
    "        w4_out = tf.get_variable('out_layer4', shape=[n_nodes_full, n_labels],\n",
    "                             initializer=tf.contrib.layers.xavier_initializer())\n",
    "        b4_out = tf.Variable(tf.constant(1.0, shape=[n_labels], name='out_layer4_biases'))\n",
    "    \n",
    "    \n",
    "        w5_out = tf.get_variable('out_layer5', shape=[n_nodes_full, n_labels],\n",
    "                             initializer=tf.contrib.layers.xavier_initializer())\n",
    "        b5_out = tf.Variable(tf.constant(1.0, shape=[n_labels], name='out_layer5_biases'))\n",
    "    \n",
    "    \n",
    "    \n",
    "    def model(dataset, keep_prob):\n",
    "        with tf.name_scope(\"Conv1\") as scope:\n",
    "            conv_1 = tf.nn.conv2d(dataset, w1_conv, [1,1,1,1],'SAME') + b1_conv\n",
    "            relu_1 = tf.nn.relu(conv_1)\n",
    "            pool_1 = tf.nn.max_pool(relu_1, [1,2,2,1], [1,2,2,1], 'SAME')\n",
    "            #print('pool_1 shape is: ', pool_1.get_shape().as_list())\n",
    "        with tf.name_scope(\"Conv2\") as scope:\n",
    "            conv_2 = tf.nn.conv2d(relu_1, w2_conv, [1,1,1,1],'SAME') + b2_conv\n",
    "            relu_2 = tf.nn.relu(conv_2)\n",
    "            pool_2 = tf.nn.max_pool(relu_2, [1,2,2,1], [1,2,2,1], 'SAME')\n",
    "            #print('pool_2 shape is: ', pool_2.get_shape().as_list())\n",
    "        with tf.name_scope(\"Conv3\") as scope:\n",
    "            conv_3 = tf.nn.conv2d(pool_2, w3_conv, [1,1,1,1], 'SAME') + b3_conv\n",
    "            relu_3 = tf.nn.relu(conv_3)\n",
    "            pool_3 = tf.nn.max_pool(relu_3, [1,2,2,1], [1,2,2,1], 'SAME')\n",
    "            #print('pool_3 shape is: ', pool_3.get_shape().as_list())\n",
    "            pool_3 = tf.reshape(pool_3, (-1, 8*8*64))\n",
    "            #print('after reshape, the shape is: ', pool_3.get_shape().as_list())\n",
    "            #print('full connected layer shape is:', w_fc.get_shape().as_list())\n",
    "        with tf.name_scope(\"FC\") as scope:\n",
    "            fc = tf.nn.relu(tf.matmul(pool_3, w_fc) + b_fc)\n",
    "            fc_dropped = tf.nn.dropout(fc, keep_prob)\n",
    "        with tf.name_scope(\"out_put\") as scope:\n",
    "            #print('out put layer shape is:', w1_out.get_shape().as_list())\n",
    "            logits1 = tf.matmul(fc_dropped, w1_out) + b1_out\n",
    "            logits2 = tf.matmul(fc_dropped, w2_out) + b2_out\n",
    "            logits3 = tf.matmul(fc_dropped, w3_out) + b3_out\n",
    "            logits4 = tf.matmul(fc_dropped, w4_out) + b4_out\n",
    "            logits5 = tf.matmul(fc_dropped, w5_out) + b5_out\n",
    "            #print('logits1 shape is:', logits1.get_shape().as_list())\n",
    "            #print('logits2 shape is:', logits2.get_shape().as_list())\n",
    "            #print('logits3 shape is:', logits3.get_shape().as_list())\n",
    "            #print('logits4 shape is:', logits4.get_shape().as_list())\n",
    "            #print('logits shape is:', logits5.get_shape().as_list())\n",
    "        return logits1, logits2, logits3, logits4, logits5\n",
    "    # training computation.\n",
    "    # with tf.name_scope(\"Loss_function\") as scope:\n",
    "    # logits = model(tf_train_dataset, 1.0)\n",
    "        # print('logit shape is', logits[4].get_shape().as_list())\n",
    "        # print('train label shape is',tf_train_labels[:,5].get_shape().as_list())\n",
    "    # loss_1 = tf.reduce_mean(tf.nn.sparse_softmax_cross_entropy_with_logits(logits[0], tf_train_labels[:,1]))\n",
    "    # loss_2 = tf.reduce_mean(tf.nn.sparse_softmax_cross_entropy_with_logits(logits[1], tf_train_labels[:,2]))\n",
    "    # loss_3 = tf.reduce_mean(tf.nn.sparse_softmax_cross_entropy_with_logits(logits[2], tf_train_labels[:,3]))\n",
    "    # loss_4 = tf.reduce_mean(tf.nn.sparse_softmax_cross_entropy_with_logits(logits[3], tf_train_labels[:,4]))\n",
    "    # loss_5 = tf.reduce_mean(tf.nn.sparse_softmax_cross_entropy_with_logits(logits[4], tf_train_labels[:,5]))\n",
    "    logits1, logits2, logits3, logits4, logits5 = model(tf_train_dataset, keep_prob)\n",
    "    #print(tf_train_labels[:,5].get_shape().as_list())\n",
    "    loss = tf.reduce_mean(\n",
    "               tf.nn.sparse_softmax_cross_entropy_with_logits(logits1, tf_train_labels[:,1])) \\\n",
    "          +tf.reduce_mean(\n",
    "               tf.nn.sparse_softmax_cross_entropy_with_logits(logits2, tf_train_labels[:,2])) \\\n",
    "          +tf.reduce_mean(\n",
    "               tf.nn.sparse_softmax_cross_entropy_with_logits(logits3, tf_train_labels[:,3])) \\\n",
    "          +tf.reduce_mean(\n",
    "               tf.nn.sparse_softmax_cross_entropy_with_logits(logits4, tf_train_labels[:,4])) \\\n",
    "          +tf.reduce_mean(\n",
    "               tf.nn.sparse_softmax_cross_entropy_with_logits(logits5, tf_train_labels[:,5]))\n",
    "    tf.scalar_summary('LossValue',loss)\n",
    "    # loss = loss_1 + loss_2 + loss_3 + loss_4 + loss_5\n",
    "    \n",
    "    # Optimizer\n",
    "    with tf.name_scope(\"Optimizer\") as scope:\n",
    "        global_step = tf.Variable(0)\n",
    "        learning_rate = 0.0001 # tf.train.exponential_decay(0.001, global_step, 10000, 0.90, staircase=True)\n",
    "        tf.scalar_summary('LearningRate',learning_rate)\n",
    "        optimizer = tf.train.GradientDescentOptimizer(learning_rate).minimize(loss, global_step=global_step)\n",
    "    \n",
    "    # with tf.name_scope(\"Accuracy\") as scope:\n",
    "    #    accu = accuracy(train_prediction, tf_train_labels[:,1:])\n",
    "    #    tf.scalar_summary('train_accuracy', accu)\n",
    "    \n",
    "    # Predictions of train, validation and test datasets\n",
    "    with tf.name_scope(\"Train_prediction\") as scope:\n",
    "        train_logits = model(tf_train_dataset, keep_prob)\n",
    "        # print(train_logits[0].get_shape().as_list())\n",
    "        train_prediction = tf.pack(map(tf.nn.softmax, train_logits))\n",
    "        # train_prediction = tf.nn.softmax(train_logits)\n",
    "        # print(train_prediction.get_shape().as_list())\n",
    "    with tf.name_scope(\"Validation_prediction\") as scope:\n",
    "        valid_logits = model(tf_valid_dataset, 1.0)\n",
    "        valid_prediction = tf.pack(map(tf.nn.softmax, valid_logits))\n",
    "        # valid_prediction = tf.nn.softmax(valid_logits)\n",
    "    with tf.name_scope(\"Test_prediction\") as scope:\n",
    "        test_logits = model(tf_test_dataset, 1.0)\n",
    "        test_prediction = tf.pack(map(tf.nn.softmax, test_logits))\n",
    "        # test_prediction = tf.nn.softmax(valid_logits)\n",
    "    \n",
    "    # with tf.name_scope('Accuracy') as scope:\n",
    "    #    print(train_prediction.get_shape().as_list())\n",
    "    #    print(np.argmax(train_prediction.eval(), 2).T.shape)\n",
    "    #    train_accu = accuracy(train_prediction, )\n",
    "    #    tf.scalar_summary('Accuracy',train_accu)\n",
    "    \n",
    "    # valid_preds = tf.nn.softmax(model(tf_valid_dataset, 1.0))\n",
    "    # test_preds = tf.nn.softmax(model(tf_test_dataset, 1.0))\n",
    "    \n",
    "    summary_op = tf.merge_all_summaries()\n",
    "    \n",
    "    # Sheldon is in charge of saving and restore the model\n",
    "    Sheldon = tf.train.Saver(max_to_keep=3)"
   ]
  },
  {
   "cell_type": "code",
   "execution_count": 23,
   "metadata": {
    "collapsed": false
   },
   "outputs": [
    {
     "name": "stdout",
     "output_type": "stream",
     "text": [
      "Initialized\n",
      "Minibatch loss at step 0: 109.953278\n",
      "Minibatch accuracy: 6.00000%\n",
      "Validation accuracy: 42.12500%\n",
      "Minibatch loss at step 40: 4.637196\n",
      "Minibatch accuracy: 74.00000%\n",
      "Validation accuracy: 45.52500%\n",
      "Minibatch loss at step 80: 3.013660\n",
      "Minibatch accuracy: 88.00000%\n",
      "Validation accuracy: 47.37500%\n",
      "Minibatch loss at step 120: 1.951361\n",
      "Minibatch accuracy: 94.00000%\n",
      "Validation accuracy: 46.87500%\n",
      "Minibatch loss at step 160: 1.361270\n",
      "Minibatch accuracy: 96.00000%\n",
      "Validation accuracy: 47.35000%\n",
      "Minibatch loss at step 200: 0.926277\n",
      "Minibatch accuracy: 100.00000%\n",
      "Validation accuracy: 47.80000%\n",
      "Minibatch loss at step 240: 0.650054\n",
      "Minibatch accuracy: 100.00000%\n",
      "Validation accuracy: 48.45000%\n",
      "Minibatch loss at step 280: 0.476036\n",
      "Minibatch accuracy: 100.00000%\n",
      "Validation accuracy: 48.80000%\n",
      "Minibatch loss at step 320: 0.358984\n",
      "Minibatch accuracy: 100.00000%\n",
      "Validation accuracy: 49.12500%\n",
      "Minibatch loss at step 360: 0.279771\n",
      "Minibatch accuracy: 100.00000%\n",
      "Validation accuracy: 50.00000%\n",
      "Minibatch loss at step 400: 0.223408\n",
      "Minibatch accuracy: 100.00000%\n",
      "Validation accuracy: 50.02500%\n",
      "Minibatch loss at step 440: 0.183464\n",
      "Minibatch accuracy: 100.00000%\n",
      "Validation accuracy: 50.17500%\n",
      "Minibatch loss at step 480: 0.153988\n",
      "Minibatch accuracy: 100.00000%\n",
      "Validation accuracy: 50.27500%\n",
      "Minibatch loss at step 520: 0.131678\n",
      "Minibatch accuracy: 100.00000%\n",
      "Validation accuracy: 50.25000%\n",
      "Minibatch loss at step 560: 0.113752\n",
      "Minibatch accuracy: 100.00000%\n",
      "Validation accuracy: 50.32500%\n",
      "Minibatch loss at step 600: 0.099805\n",
      "Minibatch accuracy: 100.00000%\n",
      "Validation accuracy: 50.50000%\n",
      "Minibatch loss at step 640: 0.088326\n",
      "Minibatch accuracy: 100.00000%\n",
      "Validation accuracy: 50.60000%\n",
      "Minibatch loss at step 680: 0.079207\n",
      "Minibatch accuracy: 100.00000%\n",
      "Validation accuracy: 50.55000%\n",
      "Minibatch loss at step 720: 0.071670\n",
      "Minibatch accuracy: 100.00000%\n",
      "Validation accuracy: 50.55000%\n",
      "Minibatch loss at step 760: 0.065171\n",
      "Minibatch accuracy: 100.00000%\n",
      "Validation accuracy: 50.60000%\n",
      "Minibatch loss at step 800: 0.059643\n",
      "Minibatch accuracy: 100.00000%\n",
      "Validation accuracy: 50.62500%\n",
      "Test accuracy: 58.5%\n",
      "Training time is 0.787566649914 mins\n"
     ]
    }
   ],
   "source": [
    "num_steps = 801\n",
    "model_name = 'convonet_model.mdl'\n",
    "\n",
    "accus = []\n",
    "\n",
    "with tf.Session(graph=graph) as session:\n",
    "    tf.initialize_all_variables().run()  \n",
    "\n",
    "    # Sheldon.restore(session, model_name)\n",
    "    # print(\"Model restored.\")\n",
    "    writer = tf.train.SummaryWriter('/tmp/summaries/', session.graph)\n",
    "    \n",
    "    print('Initialized')\n",
    "    t1 = time.time()\n",
    "    for step in range(num_steps):\n",
    "        offset = 0 # (step * batch_size) % (y_train.shape[0] - batch_size)\n",
    "        batch_data = X_train[offset:(offset + batch_size), :, :, :]\n",
    "        batch_labels = y_train[offset:(offset + batch_size),:]\n",
    "        feed_dict = {tf_train_dataset : batch_data, tf_train_labels : batch_labels}\n",
    "        _, l, predictions, summary = session.run(\n",
    "                [optimizer, loss, train_prediction, summary_op], feed_dict=feed_dict)\n",
    "        \n",
    "        writer.add_summary(summary, step)\n",
    "\n",
    "        if (step % 40 == 0): \n",
    "            print('Minibatch loss at step %d: %f' % (step, l))\n",
    "            #if step == 0:\n",
    "                #print(type(predictions), predictions.shape)\n",
    "                #np.argmax(predictions, 1).T.shape\n",
    "            mini_accu = accuracy(predictions, batch_labels)\n",
    "            print('Minibatch accuracy: %.5f%%' % mini_accu)\n",
    "            v_accu = accuracy(valid_prediction.eval(), y_valid)\n",
    "            accus.append((mini_accu, v_accu))\n",
    "            print('Validation accuracy: %.5f%%' % v_accu)\n",
    "    print('Test accuracy: %.1f%%' % accuracy(test_prediction.eval(), y_test))\n",
    "    writer.flush()\n",
    "    writer.close()\n",
    "    # path = Sheldon.save(session, model_name)\n",
    "    #print('Model saved in {}'.format(path))\n",
    "    t2 = (time.time() - t1)/60\n",
    "    print('Training time is {} mins'.format(t2))"
   ]
  },
  {
   "cell_type": "code",
   "execution_count": 24,
   "metadata": {
    "collapsed": false
   },
   "outputs": [],
   "source": [
    "#steps = np.arange(21)*500\n",
    "steps = np.arange(len(accus))*40\n",
    "mini_acc = map(lambda t: t[0], accus)\n",
    "valid_acc = map(lambda t: t[1], accus)\n",
    "plt.figure(figsize=(16,9), dpi=75)\n",
    "plt.scatter(steps, mini_acc)\n",
    "plt.scatter(steps, valid_acc, c='r')\n",
    "\n",
    "plt.title('Accuracy Over Train Steps')\n",
    "plt.legend(['mini batch accuracy', 'validation accuray'])\n",
    "plt.xlabel('train steps')\n",
    "plt.ylabel('accuracy')\n",
    "plt.show()"
   ]
  },
  {
   "cell_type": "code",
   "execution_count": 11,
   "metadata": {
    "collapsed": false
   },
   "outputs": [
    {
     "name": "stdout",
     "output_type": "stream",
     "text": [
      "[  0  20  40  60  80 100 120 140 160 180 200 220 240 260 280 300 320 340\n",
      " 360 380 400 420 440 460 480 500 520 540 560 580 600 620 640 660 680 700\n",
      " 720 740 760 780 800] 41\n"
     ]
    }
   ],
   "source": [
    "print(steps, len(accus))"
   ]
  },
  {
   "cell_type": "code",
   "execution_count": null,
   "metadata": {
    "collapsed": true
   },
   "outputs": [],
   "source": []
  },
  {
   "cell_type": "code",
   "execution_count": null,
   "metadata": {
    "collapsed": true
   },
   "outputs": [],
   "source": []
  }
 ],
 "metadata": {
  "kernelspec": {
   "display_name": "Python 2",
   "language": "python",
   "name": "python2"
  },
  "language_info": {
   "codemirror_mode": {
    "name": "ipython",
    "version": 2
   },
   "file_extension": ".py",
   "mimetype": "text/x-python",
   "name": "python",
   "nbconvert_exporter": "python",
   "pygments_lexer": "ipython2",
   "version": "2.7.12"
  }
 },
 "nbformat": 4,
 "nbformat_minor": 0
}
